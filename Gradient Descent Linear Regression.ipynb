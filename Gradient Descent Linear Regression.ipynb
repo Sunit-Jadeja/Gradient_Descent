{
 "cells": [
  {
   "cell_type": "code",
   "execution_count": 4,
   "id": "024676b9",
   "metadata": {},
   "outputs": [],
   "source": [
    "import pandas as pd\n",
    "import pandas\n",
    "import numpy as np\n",
    "from sklearn.model_selection import train_test_split\n",
    "from sklearn.linear_model import LogisticRegression\n",
    "from sklearn.linear_model import LinearRegression\n",
    "from sklearn.metrics import mean_squared_error\n",
    "from sklearn.metrics import r2_score\n",
    "from sklearn.metrics import accuracy_score\n",
    "from sklearn.linear_model import LinearRegression\n",
    "from sklearn.metrics import classification_report\n",
    "from matplotlib import pyplot\n",
    "import matplotlib.pyplot as plt\n",
    "from sklearn.decomposition import PCA\n",
    "from sklearn.feature_selection import SelectKBest\n",
    "from sklearn.pipeline import FeatureUnion\n",
    "from sklearn.metrics import mean_squared_error\n",
    "from sklearn.metrics import r2_score\n",
    "import statsmodels.api as sm\n",
    "import seaborn as sns"
   ]
  },
  {
   "cell_type": "code",
   "execution_count": 2,
   "id": "8fcf1994",
   "metadata": {},
   "outputs": [],
   "source": [
    "df=pd.read_excel(\"/Users/sunitjadeja/Desktop/TISS All Subject/Machine Learning/HousingData.xls\")"
   ]
  },
  {
   "cell_type": "code",
   "execution_count": 3,
   "id": "ea98ed09",
   "metadata": {},
   "outputs": [],
   "source": [
    "test_size=0.33\n",
    "seed= 7\n",
    "train_data,test_data = train_test_split(df,test_size=test_size, random_state=seed)"
   ]
  },
  {
   "cell_type": "code",
   "execution_count": 4,
   "id": "d1e41090",
   "metadata": {},
   "outputs": [
    {
     "data": {
      "text/plain": [
       "array([[1.   , 6.345],\n",
       "       [1.   , 6.98 ],\n",
       "       [1.   , 5.935],\n",
       "       [1.   , 5.998],\n",
       "       [1.   , 6.471],\n",
       "       [1.   , 6.151],\n",
       "       [1.   , 8.297],\n",
       "       [1.   , 6.482],\n",
       "       [1.   , 5.787],\n",
       "       [1.   , 5.565],\n",
       "       [1.   , 6.842],\n",
       "       [1.   , 3.561],\n",
       "       [1.   , 6.951],\n",
       "       [1.   , 7.416],\n",
       "       [1.   , 6.826],\n",
       "       [1.   , 5.186],\n",
       "       [1.   , 5.834],\n",
       "       [1.   , 8.375],\n",
       "       [1.   , 7.923],\n",
       "       [1.   , 5.786],\n",
       "       [1.   , 6.015],\n",
       "       [1.   , 5.85 ],\n",
       "       [1.   , 4.519],\n",
       "       [1.   , 4.368],\n",
       "       [1.   , 6.144],\n",
       "       [1.   , 5.572],\n",
       "       [1.   , 6.245],\n",
       "       [1.   , 6.758],\n",
       "       [1.   , 6.167],\n",
       "       [1.   , 5.807],\n",
       "       [1.   , 8.259],\n",
       "       [1.   , 5.935],\n",
       "       [1.   , 4.973],\n",
       "       [1.   , 6.405],\n",
       "       [1.   , 7.007],\n",
       "       [1.   , 6.202],\n",
       "       [1.   , 6.174],\n",
       "       [1.   , 6.604],\n",
       "       [1.   , 6.405],\n",
       "       [1.   , 7.333],\n",
       "       [1.   , 5.859],\n",
       "       [1.   , 5.875],\n",
       "       [1.   , 6.108],\n",
       "       [1.   , 6.943],\n",
       "       [1.   , 6.417],\n",
       "       [1.   , 5.822],\n",
       "       [1.   , 7.82 ],\n",
       "       [1.   , 6.019],\n",
       "       [1.   , 6.216],\n",
       "       [1.   , 6.879],\n",
       "       [1.   , 6.54 ],\n",
       "       [1.   , 6.49 ],\n",
       "       [1.   , 5.884],\n",
       "       [1.   , 5.983],\n",
       "       [1.   , 8.337],\n",
       "       [1.   , 5.456],\n",
       "       [1.   , 6.315],\n",
       "       [1.   , 4.652],\n",
       "       [1.   , 5.57 ],\n",
       "       [1.   , 7.249],\n",
       "       [1.   , 7.088],\n",
       "       [1.   , 6.103],\n",
       "       [1.   , 6.398],\n",
       "       [1.   , 6.096],\n",
       "       [1.   , 6.144],\n",
       "       [1.   , 5.604],\n",
       "       [1.   , 6.122],\n",
       "       [1.   , 5.783],\n",
       "       [1.   , 6.606],\n",
       "       [1.   , 6.63 ],\n",
       "       [1.   , 6.683],\n",
       "       [1.   , 6.678],\n",
       "       [1.   , 8.069],\n",
       "       [1.   , 6.086],\n",
       "       [1.   , 6.405],\n",
       "       [1.   , 6.297],\n",
       "       [1.   , 6.129],\n",
       "       [1.   , 5.961],\n",
       "       [1.   , 6.092],\n",
       "       [1.   , 6.406],\n",
       "       [1.   , 7.241],\n",
       "       [1.   , 5.88 ],\n",
       "       [1.   , 6.474],\n",
       "       [1.   , 6.232],\n",
       "       [1.   , 6.249],\n",
       "       [1.   , 5.966],\n",
       "       [1.   , 5.869],\n",
       "       [1.   , 5.759],\n",
       "       [1.   , 5.986],\n",
       "       [1.   , 6.185],\n",
       "       [1.   , 5.887],\n",
       "       [1.   , 6.312],\n",
       "       [1.   , 6.006],\n",
       "       [1.   , 7.691],\n",
       "       [1.   , 6.852],\n",
       "       [1.   , 5.924],\n",
       "       [1.   , 6.376],\n",
       "       [1.   , 6.348],\n",
       "       [1.   , 6.027],\n",
       "       [1.   , 5.613],\n",
       "       [1.   , 5.569],\n",
       "       [1.   , 5.983],\n",
       "       [1.   , 6.86 ],\n",
       "       [1.   , 6.208],\n",
       "       [1.   , 6.794],\n",
       "       [1.   , 6.618],\n",
       "       [1.   , 6.579],\n",
       "       [1.   , 6.211],\n",
       "       [1.   , 5.885],\n",
       "       [1.   , 5.841],\n",
       "       [1.   , 6.25 ],\n",
       "       [1.   , 6.009],\n",
       "       [1.   , 4.903],\n",
       "       [1.   , 6.728],\n",
       "       [1.   , 5.693],\n",
       "       [1.   , 6.545],\n",
       "       [1.   , 6.004],\n",
       "       [1.   , 6.513],\n",
       "       [1.   , 6.02 ],\n",
       "       [1.   , 7.412],\n",
       "       [1.   , 5.96 ],\n",
       "       [1.   , 6.431],\n",
       "       [1.   , 5.468],\n",
       "       [1.   , 6.095],\n",
       "       [1.   , 6.172],\n",
       "       [1.   , 6.108],\n",
       "       [1.   , 7.016],\n",
       "       [1.   , 6.31 ],\n",
       "       [1.   , 5.631],\n",
       "       [1.   , 5.272],\n",
       "       [1.   , 6.047],\n",
       "       [1.   , 7.014],\n",
       "       [1.   , 7.104],\n",
       "       [1.   , 5.876],\n",
       "       [1.   , 6.003],\n",
       "       [1.   , 5.709],\n",
       "       [1.   , 5.399],\n",
       "       [1.   , 6.064],\n",
       "       [1.   , 6.209],\n",
       "       [1.   , 6.421],\n",
       "       [1.   , 5.92 ],\n",
       "       [1.   , 5.56 ],\n",
       "       [1.   , 6.312],\n",
       "       [1.   , 6.316],\n",
       "       [1.   , 6.625],\n",
       "       [1.   , 6.317],\n",
       "       [1.   , 5.093],\n",
       "       [1.   , 5.914],\n",
       "       [1.   , 6.176],\n",
       "       [1.   , 5.682],\n",
       "       [1.   , 7.489],\n",
       "       [1.   , 5.277],\n",
       "       [1.   , 6.021],\n",
       "       [1.   , 6.315],\n",
       "       [1.   , 6.14 ],\n",
       "       [1.   , 5.454],\n",
       "       [1.   , 6.762],\n",
       "       [1.   , 6.343],\n",
       "       [1.   , 5.39 ],\n",
       "       [1.   , 5.981],\n",
       "       [1.   , 5.79 ],\n",
       "       [1.   , 7.831],\n",
       "       [1.   , 6.059],\n",
       "       [1.   , 6.975],\n",
       "       [1.   , 5.976],\n",
       "       [1.   , 6.004],\n",
       "       [1.   , 5.926],\n",
       "       [1.   , 6.436],\n",
       "       [1.   , 6.849],\n",
       "       [1.   , 6.376],\n",
       "       [1.   , 6.066],\n",
       "       [1.   , 6.63 ],\n",
       "       [1.   , 8.725],\n",
       "       [1.   , 8.398],\n",
       "       [1.   , 5.706],\n",
       "       [1.   , 4.628],\n",
       "       [1.   , 6.279],\n",
       "       [1.   , 5.713],\n",
       "       [1.   , 7.313],\n",
       "       [1.   , 6.121],\n",
       "       [1.   , 6.03 ],\n",
       "       [1.   , 7.155],\n",
       "       [1.   , 5.851],\n",
       "       [1.   , 6.417],\n",
       "       [1.   , 5.602],\n",
       "       [1.   , 5.536],\n",
       "       [1.   , 6.43 ],\n",
       "       [1.   , 5.99 ],\n",
       "       [1.   , 6.726],\n",
       "       [1.   , 5.531],\n",
       "       [1.   , 5.67 ],\n",
       "       [1.   , 5.836],\n",
       "       [1.   , 5.757],\n",
       "       [1.   , 5.683],\n",
       "       [1.   , 8.04 ],\n",
       "       [1.   , 5.412],\n",
       "       [1.   , 6.951],\n",
       "       [1.   , 6.485],\n",
       "       [1.   , 6.426],\n",
       "       [1.   , 7.645],\n",
       "       [1.   , 6.674],\n",
       "       [1.   , 6.402],\n",
       "       [1.   , 7.765],\n",
       "       [1.   , 6.727],\n",
       "       [1.   , 7.107],\n",
       "       [1.   , 5.344],\n",
       "       [1.   , 6.335],\n",
       "       [1.   , 6.98 ],\n",
       "       [1.   , 6.833],\n",
       "       [1.   , 7.274],\n",
       "       [1.   , 4.906],\n",
       "       [1.   , 7.929],\n",
       "       [1.   , 5.   ],\n",
       "       [1.   , 5.942],\n",
       "       [1.   , 6.453],\n",
       "       [1.   , 6.037],\n",
       "       [1.   , 6.326],\n",
       "       [1.   , 6.595],\n",
       "       [1.   , 6.182],\n",
       "       [1.   , 6.211],\n",
       "       [1.   , 5.888],\n",
       "       [1.   , 5.304],\n",
       "       [1.   , 7.041],\n",
       "       [1.   , 6.301],\n",
       "       [1.   , 7.236],\n",
       "       [1.   , 5.933],\n",
       "       [1.   , 5.705],\n",
       "       [1.   , 5.972],\n",
       "       [1.   , 7.267],\n",
       "       [1.   , 5.879],\n",
       "       [1.   , 5.403],\n",
       "       [1.   , 6.195],\n",
       "       [1.   , 5.708],\n",
       "       [1.   , 6.031],\n",
       "       [1.   , 6.193],\n",
       "       [1.   , 5.627],\n",
       "       [1.   , 6.127],\n",
       "       [1.   , 6.341],\n",
       "       [1.   , 5.889],\n",
       "       [1.   , 6.538],\n",
       "       [1.   , 6.03 ],\n",
       "       [1.   , 7.853],\n",
       "       [1.   , 6.459],\n",
       "       [1.   , 5.731],\n",
       "       [1.   , 5.965],\n",
       "       [1.   , 6.404],\n",
       "       [1.   , 6.167],\n",
       "       [1.   , 6.458],\n",
       "       [1.   , 5.762],\n",
       "       [1.   , 6.333],\n",
       "       [1.   , 6.552],\n",
       "       [1.   , 5.39 ],\n",
       "       [1.   , 6.23 ],\n",
       "       [1.   , 5.856],\n",
       "       [1.   , 5.701],\n",
       "       [1.   , 6.162],\n",
       "       [1.   , 7.147],\n",
       "       [1.   , 6.657],\n",
       "       [1.   , 5.727],\n",
       "       [1.   , 6.373],\n",
       "       [1.   , 6.223],\n",
       "       [1.   , 6.593],\n",
       "       [1.   , 6.824],\n",
       "       [1.   , 6.212],\n",
       "       [1.   , 5.597],\n",
       "       [1.   , 8.266],\n",
       "       [1.   , 6.226],\n",
       "       [1.   , 5.427],\n",
       "       [1.   , 5.404],\n",
       "       [1.   , 7.061],\n",
       "       [1.   , 5.782],\n",
       "       [1.   , 7.148],\n",
       "       [1.   , 8.247],\n",
       "       [1.   , 6.377],\n",
       "       [1.   , 6.812],\n",
       "       [1.   , 5.961],\n",
       "       [1.   , 6.957],\n",
       "       [1.   , 6.442],\n",
       "       [1.   , 6.75 ],\n",
       "       [1.   , 6.939],\n",
       "       [1.   , 6.434],\n",
       "       [1.   , 4.138],\n",
       "       [1.   , 5.987],\n",
       "       [1.   , 7.178],\n",
       "       [1.   , 8.704],\n",
       "       [1.   , 5.871],\n",
       "       [1.   , 5.985],\n",
       "       [1.   , 5.707],\n",
       "       [1.   , 7.875],\n",
       "       [1.   , 6.696],\n",
       "       [1.   , 6.454],\n",
       "       [1.   , 7.203],\n",
       "       [1.   , 5.966],\n",
       "       [1.   , 6.162],\n",
       "       [1.   , 6.167],\n",
       "       [1.   , 6.861],\n",
       "       [1.   , 6.185],\n",
       "       [1.   , 7.185],\n",
       "       [1.   , 6.438],\n",
       "       [1.   , 5.913],\n",
       "       [1.   , 6.152],\n",
       "       [1.   , 6.563],\n",
       "       [1.   , 5.012],\n",
       "       [1.   , 6.023],\n",
       "       [1.   , 6.431],\n",
       "       [1.   , 6.739],\n",
       "       [1.   , 6.069],\n",
       "       [1.   , 5.854],\n",
       "       [1.   , 6.854],\n",
       "       [1.   , 6.012],\n",
       "       [1.   , 6.487],\n",
       "       [1.   , 6.122],\n",
       "       [1.   , 6.286],\n",
       "       [1.   , 6.575],\n",
       "       [1.   , 6.193],\n",
       "       [1.   , 6.051],\n",
       "       [1.   , 5.52 ],\n",
       "       [1.   , 6.425],\n",
       "       [1.   , 5.594],\n",
       "       [1.   , 6.114],\n",
       "       [1.   , 5.877],\n",
       "       [1.   , 5.036],\n",
       "       [1.   , 5.951],\n",
       "       [1.   , 6.169],\n",
       "       [1.   , 4.963],\n",
       "       [1.   , 6.014],\n",
       "       [1.   , 6.065],\n",
       "       [1.   , 5.813],\n",
       "       [1.   , 5.453],\n",
       "       [1.   , 6.153],\n",
       "       [1.   , 6.635],\n",
       "       [1.   , 6.137],\n",
       "       [1.   , 5.608],\n",
       "       [1.   , 5.404],\n",
       "       [1.   , 5.878],\n",
       "       [1.   , 6.12 ],\n",
       "       [1.   , 5.599],\n",
       "       [1.   , 7.287],\n",
       "       [1.   , 6.546]])"
      ]
     },
     "execution_count": 4,
     "metadata": {},
     "output_type": "execute_result"
    }
   ],
   "source": [
    "y=train_data[[\"MEDV\"]]\n",
    "x=train_data[[\"RM\"]]\n",
    "X = np.c_[np.ones((339,1)),x]\n",
    "Y=np.array(train_data['MEDV'])\n",
    "X"
   ]
  },
  {
   "cell_type": "code",
   "execution_count": 5,
   "id": "1e8fca45",
   "metadata": {},
   "outputs": [],
   "source": [
    "beta = 0.01 #Step size\n",
    "iterations = 2000 #No. of iterations\n",
    "m = y.size #No. of data points\n",
    "np.random.seed(456) #Set the seed\n",
    "#theta = np.random.rand(1,2) #Pick some random values to start with"
   ]
  },
  {
   "cell_type": "code",
   "execution_count": 6,
   "id": "9ee84cb9",
   "metadata": {},
   "outputs": [],
   "source": [
    "alpha = 0.01 #Step size\n",
    "iterations = 200 #No. of iterations\n",
    "m = y.size #No. of data points\n",
    "np.random.seed(456) #Set the seed\n",
    "theta = np.random.rand(2) #Pick some random values to start with\n",
    "\n",
    "\n",
    "#GRADIENT DESCENT\n",
    "def gradient_descent(x, y, theta, iterations, alpha):\n",
    "    past_costs = []\n",
    "    past_thetas = [theta]\n",
    "    for i in range(iterations):\n",
    "        prediction = np.dot(x, theta)\n",
    "        error = prediction - y\n",
    "        cost = np.sum(np.square(error)/(2*len(y)))\n",
    "        past_costs.append(cost)\n",
    "        theta = theta - (alpha * (1/m) * np.dot(x.T, error))\n",
    "        past_thetas.append(theta)\n",
    "        \n",
    "    return past_thetas, past_costs"
   ]
  },
  {
   "cell_type": "code",
   "execution_count": 7,
   "id": "e4c0f2cf",
   "metadata": {},
   "outputs": [
    {
     "data": {
      "text/plain": [
       "28.946715502871193"
      ]
     },
     "execution_count": 7,
     "metadata": {},
     "output_type": "execute_result"
    }
   ],
   "source": [
    "past_thetas, past_costs = gradient_descent(X, Y, theta, iterations, alpha)\n",
    "#parameter_values= pd.DataFrame(past_thetas)\n",
    "cost_values= pd.DataFrame(past_costs)\n",
    "alpha=past_thetas[-1]\n",
    "past_costs.pop()\n"
   ]
  },
  {
   "cell_type": "code",
   "execution_count": 8,
   "id": "17445c82",
   "metadata": {},
   "outputs": [
    {
     "data": {
      "text/plain": [
       "array([[-0.21760213],\n",
       "       [ 3.72439419]])"
      ]
     },
     "execution_count": 8,
     "metadata": {},
     "output_type": "execute_result"
    }
   ],
   "source": [
    "alpha.resize((2, 1))\n",
    "alpha"
   ]
  },
  {
   "cell_type": "code",
   "execution_count": 9,
   "id": "3184b2f1",
   "metadata": {},
   "outputs": [
    {
     "data": {
      "image/png": "[encoded data removed]",
      "text/plain": [
       "<Figure size 864x576 with 1 Axes>"
      ]
     },
     "metadata": {
      "needs_background": "light"
     },
     "output_type": "display_data"
    }
   ],
   "source": [
    "fig,ax = plt.subplots(figsize=(12,8))\n",
    "\n",
    "ax.set_ylabel('Cost')\n",
    "ax.set_xlabel('Iterations')\n",
    "plt.title('Cost Function ')\n",
    "_=ax.plot(range(iterations),cost_values,'b.')"
   ]
  },
  {
   "cell_type": "code",
   "execution_count": 10,
   "id": "9c8309d8",
   "metadata": {},
   "outputs": [
    {
     "data": {
      "image/png": "[encoded data removed]",
      "text/plain": [
       "<Figure size 720x576 with 1 Axes>"
      ]
     },
     "metadata": {
      "needs_background": "light"
     },
     "output_type": "display_data"
    }
   ],
   "source": [
    "fig,ax = plt.subplots(figsize=(10,8))\n",
    "_=ax.plot(range(10),cost_values[:10],'b.')"
   ]
  },
  {
   "cell_type": "code",
   "execution_count": 11,
   "id": "a1e81f37",
   "metadata": {},
   "outputs": [],
   "source": [
    "y_t=test_data[[\"MEDV\"]]\n",
    "# x=train_data[[\"RM\"]]\n",
    "Y_t = np.c_[np.ones((167,1)),y_t]\n",
    "# Y_t=np.array(train_data['MEDV'])"
   ]
  },
  {
   "cell_type": "code",
   "execution_count": 12,
   "id": "2f650370",
   "metadata": {},
   "outputs": [],
   "source": [
    "pred_t=np.dot(Y_t,alpha)"
   ]
  },
  {
   "cell_type": "code",
   "execution_count": 13,
   "id": "e1fa9482",
   "metadata": {},
   "outputs": [
    {
     "data": {
      "text/plain": [
       "49.26404758233035"
      ]
     },
     "execution_count": 13,
     "metadata": {},
     "output_type": "execute_result"
    }
   ],
   "source": [
    "RSS=np.sum(np.square(Y_t - pred_t ))\n",
    "TSS=np.sum(((Y_t)- (np.square(Y_t.mean()))))\n",
    "Rsq = (1 - (RSS/TSS))\n",
    "Rsq"
   ]
  },
  {
   "cell_type": "code",
   "execution_count": 14,
   "id": "74f140d7",
   "metadata": {},
   "outputs": [],
   "source": [
    "pred=np.dot(X,alpha)"
   ]
  },
  {
   "cell_type": "code",
   "execution_count": 15,
   "id": "79862807",
   "metadata": {},
   "outputs": [
    {
     "data": {
      "text/plain": [
       "Text(0, 0.5, 'mpg')"
      ]
     },
     "execution_count": 15,
     "metadata": {},
     "output_type": "execute_result"
    },
    {
     "data": {
      "image/png": "[encoded data removed]",
      "text/plain": [
       "<Figure size 432x288 with 1 Axes>"
      ]
     },
     "metadata": {
      "needs_background": "light"
     },
     "output_type": "display_data"
    }
   ],
   "source": [
    "plt.scatter(x,y)\n",
    "plt.plot(x,pred,color='orange')\n",
    "plt.title(\"Regression Model\")\n",
    "plt.xlabel(\"hp\")\n",
    "plt.ylabel(\"mpg\")"
   ]
  },
  {
   "cell_type": "code",
   "execution_count": null,
   "id": "cfff008b",
   "metadata": {},
   "outputs": [],
   "source": []
  }
 ],
 "metadata": {
  "kernelspec": {
   "display_name": "Python 3",
   "language": "python",
   "name": "python3"
  },
  "language_info": {
   "codemirror_mode": {
    "name": "ipython",
    "version": 3
   },
   "file_extension": ".py",
   "mimetype": "text/x-python",
   "name": "python",
   "nbconvert_exporter": "python",
   "pygments_lexer": "ipython3",
   "version": "3.8.3"
  }
 },
 "nbformat": 4,
 "nbformat_minor": 5
}
